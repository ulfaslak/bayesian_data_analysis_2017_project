{
 "cells": [
  {
   "cell_type": "markdown",
   "metadata": {},
   "source": [
    "### Bandicoot\n",
    "\n",
    "_bandicoot_ is an open-source python toolbox to analyze mobile phone metadata.\n",
    "\n",
    "For more information, see: http://bandicoot.mit.edu/\n",
    "\n",
    "<hr>"
   ]
  },
  {
   "cell_type": "code",
   "execution_count": 1,
   "metadata": {
    "collapsed": false
   },
   "outputs": [
    {
     "name": "stdout",
     "output_type": "stream",
     "text": [
      "Populating the interactive namespace from numpy and matplotlib\n"
     ]
    }
   ],
   "source": [
    "%pylab inline\n",
    "import seaborn as sns"
   ]
  },
  {
   "cell_type": "markdown",
   "metadata": {},
   "source": [
    "### Input files\n",
    "\n",
    "<img src=\"mini-mockups-01.png\" width=\"80%\" style=\"border: 1px solid #aaa\" />\n",
    "\n",
    "Scheme for ``read_csv`` user records:\n",
    "> ``interaction,direction,correspondent_id,datetime,call_duration,antenna_id``\n",
    "\n",
    "Scheme for ``read_orange``:\n",
    "> ``call_record_type;basic_service;user_msisdn;call_partner_identity;datetime;call_duration;longitude;latitude``"
   ]
  },
  {
   "cell_type": "code",
   "execution_count": 2,
   "metadata": {
    "collapsed": false
   },
   "outputs": [
    {
     "name": "stdout",
     "output_type": "stream",
     "text": [
      "interaction,direction,correspondent_id,datetime,call_duration,antenna_id\r\n",
      "text,in,A,2014-03-02 07:13:30,,1\r\n",
      "text,in,E,2014-03-02 07:53:30,,1\r\n",
      "text,in,E,2014-03-02 08:22:30,,2\r\n",
      "text,out,D,2014-03-02 08:34:30,,3\r\n"
     ]
    }
   ],
   "source": [
    "!head -n 5 data/ego.csv"
   ]
  },
  {
   "cell_type": "code",
   "execution_count": 3,
   "metadata": {
    "collapsed": false
   },
   "outputs": [
    {
     "name": "stdout",
     "output_type": "stream",
     "text": [
      "place_id,latitude,longitude\r\n",
      "1,42.366944,-71.083611\r\n",
      "2,42.386722,-71.138778\r\n",
      "3,42.3604,-71.087374\r\n",
      "4,42.353917,-71.105\r\n"
     ]
    }
   ],
   "source": [
    "!head -n 5 data/antennas.csv"
   ]
  },
  {
   "cell_type": "markdown",
   "metadata": {},
   "source": [
    "## Loading a user"
   ]
  },
  {
   "cell_type": "code",
   "execution_count": 4,
   "metadata": {
    "collapsed": false
   },
   "outputs": [
    {
     "name": "stdout",
     "output_type": "stream",
     "text": [
      "\u001b[32m[x]\u001b[0m 314 records from 2014-03-02 07:13:30 to 2014-04-14 12:04:37\n",
      "\u001b[32m[x]\u001b[0m 7 contacts\n",
      "\u001b[32m[ ]\u001b[0m No attributes stored\n",
      "\u001b[32m[x]\u001b[0m 27 antennas\n",
      "\u001b[32m[x]\u001b[0m Has home\n",
      "\u001b[32m[x]\u001b[0m Has texts\n",
      "\u001b[32m[x]\u001b[0m Has calls\n"
     ]
    }
   ],
   "source": [
    "import bandicoot as bc\n",
    "U = bc.read_csv('ego', 'data/', 'data/antennas.csv')"
   ]
  },
  {
   "cell_type": "code",
   "execution_count": 5,
   "metadata": {
    "collapsed": false
   },
   "outputs": [],
   "source": [
    "bc.special.demo.export_antennas(U, 'viz/mobility_view')\n",
    "bc.special.demo.export_transitions(U, 'viz/mobility_view') \n",
    "bc.special.demo.export_timeline(U, 'viz/event_timeline')\n",
    "bc.special.demo.export_network(U, 'viz/network_view')"
   ]
  },
  {
   "cell_type": "code",
   "execution_count": 6,
   "metadata": {
    "collapsed": false,
    "scrolled": true
   },
   "outputs": [
    {
     "data": {
      "text/html": [
       "\n",
       "        <iframe\n",
       "            width=\"100%\"\n",
       "            height=\"400\"\n",
       "            src=\"viz/network_view/index.html\"\n",
       "            frameborder=\"0\"\n",
       "            allowfullscreen\n",
       "        ></iframe>\n",
       "        "
      ],
      "text/plain": [
       "<IPython.lib.display.IFrame at 0x109484210>"
      ]
     },
     "execution_count": 6,
     "metadata": {},
     "output_type": "execute_result"
    }
   ],
   "source": [
    "from IPython.display import IFrame\n",
    "IFrame(\"viz/network_view/index.html\", \"100%\", 400)"
   ]
  },
  {
   "cell_type": "code",
   "execution_count": 7,
   "metadata": {
    "collapsed": false
   },
   "outputs": [
    {
     "data": {
      "text/html": [
       "\n",
       "        <iframe\n",
       "            width=\"100%\"\n",
       "            height=\"400\"\n",
       "            src=\"viz/mobility_view/index.html\"\n",
       "            frameborder=\"0\"\n",
       "            allowfullscreen\n",
       "        ></iframe>\n",
       "        "
      ],
      "text/plain": [
       "<IPython.lib.display.IFrame at 0x1094842d0>"
      ]
     },
     "execution_count": 7,
     "metadata": {},
     "output_type": "execute_result"
    }
   ],
   "source": [
    "from IPython.display import IFrame\n",
    "IFrame(\"viz/mobility_view/index.html\", \"100%\", 400)"
   ]
  },
  {
   "cell_type": "code",
   "execution_count": 8,
   "metadata": {
    "collapsed": false
   },
   "outputs": [
    {
     "data": {
      "text/html": [
       "\n",
       "        <iframe\n",
       "            width=\"100%\"\n",
       "            height=\"400\"\n",
       "            src=\"viz/event_timeline/index.html\"\n",
       "            frameborder=\"0\"\n",
       "            allowfullscreen\n",
       "        ></iframe>\n",
       "        "
      ],
      "text/plain": [
       "<IPython.lib.display.IFrame at 0x109484310>"
      ]
     },
     "execution_count": 8,
     "metadata": {},
     "output_type": "execute_result"
    }
   ],
   "source": [
    "from IPython.display import IFrame\n",
    "IFrame(\"viz/event_timeline/index.html\", \"100%\", 400)"
   ]
  },
  {
   "cell_type": "code",
   "execution_count": 9,
   "metadata": {
    "collapsed": false
   },
   "outputs": [
    {
     "data": {
      "text/plain": [
       "[Record(interaction='text', direction='in', correspondent_id='A', datetime=datetime.datetime(2014, 3, 2, 7, 13, 30), call_duration=None, position=Position(antenna=1, location=(42.366944, -71.083611))),\n",
       " Record(interaction='text', direction='in', correspondent_id='E', datetime=datetime.datetime(2014, 3, 2, 7, 53, 30), call_duration=None, position=Position(antenna=1, location=(42.366944, -71.083611))),\n",
       " Record(interaction='text', direction='in', correspondent_id='E', datetime=datetime.datetime(2014, 3, 2, 8, 22, 30), call_duration=None, position=Position(antenna=2, location=(42.386722, -71.138778)))]"
      ]
     },
     "execution_count": 9,
     "metadata": {},
     "output_type": "execute_result"
    }
   ],
   "source": [
    "U.records[:3]"
   ]
  },
  {
   "cell_type": "markdown",
   "metadata": {},
   "source": [
    "## Individual indicators\n",
    "\n",
    "\n",
    "1. active_daysmobility point.\n",
    "2. number_of_contacts\n",
    "3. number_of_interactions\n",
    "4. duration_of_calls\n",
    "5. percent_nocturnal\n",
    "6. percent_initiated_conversations\n",
    "7. percent_initiated_interactions\n",
    "8. response_delay_text\n",
    "9. response_rate_text\n",
    "10. entropy_of_contacts\n",
    "11. balance_of_contacts\n",
    "12. interactions_per_contact\n",
    "13. interevent_time"
   ]
  },
  {
   "cell_type": "code",
   "execution_count": 10,
   "metadata": {
    "collapsed": false
   },
   "outputs": [
    {
     "data": {
      "text/plain": [
       "{'allweek': {'allday': {'call': 1.8626732085630935,\n",
       "   'text': 1.8462551114653172}}}"
      ]
     },
     "execution_count": 10,
     "metadata": {},
     "output_type": "execute_result"
    }
   ],
   "source": [
    "bc.individual.entropy_of_contacts(U, groupby=None)"
   ]
  },
  {
   "cell_type": "code",
   "execution_count": 11,
   "metadata": {
    "collapsed": false
   },
   "outputs": [
    {
     "data": {
      "text/plain": [
       "{'allweek': {'allday': {'callandtext': 0.3080357142857143}}}"
      ]
     },
     "execution_count": 11,
     "metadata": {},
     "output_type": "execute_result"
    }
   ],
   "source": [
    "bc.individual.percent_initiated_conversations(U, groupby=None)"
   ]
  },
  {
   "cell_type": "code",
   "execution_count": 12,
   "metadata": {
    "collapsed": false
   },
   "outputs": [
    {
     "data": {
      "image/png": "[encoded data removed]",
      "text/plain": [
       "<matplotlib.figure.Figure at 0x1094a2690>"
      ]
     },
     "metadata": {},
     "output_type": "display_data"
    }
   ],
   "source": [
    "interevent = bc.individual.interevent_time(U, groupby=None, summary=None)\n",
    "\n",
    "f, axes = plt.subplots(figsize=(12, 5))\n",
    "sns.distplot(np.log(interevent['allweek']['allday']['call']),  norm_hist=True)\n",
    "title('Distribution of interevent time', fontsize=15)\n",
    "plt.xlabel('Interevent time (second)')\n",
    "plt.ylabel('PDF')\n",
    "_ = plt.xticks(plt.xticks()[0], [int(np.exp(i)) for i in plt.xticks()[0]])"
   ]
  },
  {
   "cell_type": "code",
   "execution_count": 13,
   "metadata": {
    "collapsed": false
   },
   "outputs": [
    {
     "data": {
      "image/png": "[encoded data removed]",
      "text/plain": [
       "<matplotlib.figure.Figure at 0x1094a2250>"
      ]
     },
     "metadata": {},
     "output_type": "display_data"
    }
   ],
   "source": [
    "call_durations = bc.individual.call_duration(U, groupby=None, summary=None)\n",
    "\n",
    "f, ax = plt.subplots(figsize=(12, 5))\n",
    "sns.distplot(np.log(call_durations['allweek']['allday']['call']), kde=True)\n",
    "title('Distribution of call durations', fontsize=15)\n",
    "plt.xlabel('Call duration (second)')\n",
    "plt.ylabel('PDF')\n",
    "_ = plt.xticks(plt.xticks()[0], [int(np.exp(i)) for i in plt.xticks()[0]])"
   ]
  },
  {
   "cell_type": "markdown",
   "metadata": {},
   "source": [
    "## Spatial indicators\n",
    "\n",
    "1. number_of_antennas\n",
    "2. entropy_of_antennas\n",
    "3. percent_at_home\n",
    "4. radius_of_gyration"
   ]
  },
  {
   "cell_type": "code",
   "execution_count": 14,
   "metadata": {
    "collapsed": false
   },
   "outputs": [
    {
     "name": "stdout",
     "output_type": "stream",
     "text": [
      "{'allweek': {'allday': 10}}\n"
     ]
    }
   ],
   "source": [
    "print bc.spatial.number_of_antennas(U, groupby=None)"
   ]
  },
  {
   "cell_type": "code",
   "execution_count": 15,
   "metadata": {
    "collapsed": false
   },
   "outputs": [
    {
     "data": {
      "text/plain": [
       "{'allweek': {'allday': 2.5809796846399546}}"
      ]
     },
     "execution_count": 15,
     "metadata": {},
     "output_type": "execute_result"
    }
   ],
   "source": [
    "bc.spatial.radius_of_gyration(U, groupby=None)"
   ]
  },
  {
   "cell_type": "code",
   "execution_count": 16,
   "metadata": {
    "collapsed": false
   },
   "outputs": [
    {
     "name": "stdout",
     "output_type": "stream",
     "text": [
      "Home: Position(antenna=1, location=(42.366944, -71.083611))\n",
      "Percent at home: 47%\n"
     ]
    }
   ],
   "source": [
    "print \"Home:\", U.home\n",
    "print \"Percent at home: {0:.0f}%\".format(100 * bc.spatial.percent_at_home(U, groupby=None)['allweek']['allday'])"
   ]
  },
  {
   "cell_type": "markdown",
   "metadata": {},
   "source": [
    "## Weekly aggregation\n",
    "\n",
    "By default, _bandicoot_ computes the indicators on a weekly basis and returns the mean over all the weeks available and its standard error (sem) in a nested dictionary.\n",
    "\n",
    "The ``groupby='week'`` or ``groupby=None`` keyword controls the aggregation.\n",
    "\n",
    "<img src=\"mini-mockups-02.png\" width=\"80%\" style=\"border: 1px solid #aaa\" />"
   ]
  },
  {
   "cell_type": "code",
   "execution_count": 17,
   "metadata": {
    "collapsed": false
   },
   "outputs": [
    {
     "data": {
      "text/plain": [
       "{'allweek': {'allday': {'callandtext': {'mean': 5.5,\n",
       "    'std': 2.598076211353316}}}}"
      ]
     },
     "execution_count": 17,
     "metadata": {},
     "output_type": "execute_result"
    }
   ],
   "source": [
    "bc.individual.active_days(U, groupby=False)"
   ]
  },
  {
   "cell_type": "code",
   "execution_count": 18,
   "metadata": {
    "collapsed": false
   },
   "outputs": [
    {
     "data": {
      "text/plain": [
       "{'allweek': {'allday': {'callandtext': {'mean': 5.5,\n",
       "    'std': 2.598076211353316}}}}"
      ]
     },
     "execution_count": 18,
     "metadata": {},
     "output_type": "execute_result"
    }
   ],
   "source": [
    "bc.individual.active_days(U)"
   ]
  },
  {
   "cell_type": "code",
   "execution_count": 19,
   "metadata": {
    "collapsed": false
   },
   "outputs": [
    {
     "data": {
      "text/plain": [
       "{'allweek': {'allday': {'callandtext': [1, 7, 7, 7, 7, 7, 7, 1]}}}"
      ]
     },
     "execution_count": 19,
     "metadata": {},
     "output_type": "execute_result"
    }
   ],
   "source": [
    "bc.individual.active_days(U, summary=None)"
   ]
  },
  {
   "cell_type": "markdown",
   "metadata": {},
   "source": [
    "## Summary\n",
    "\n",
    "Some indicators such as _active_days_ returns one number. Others, such as _duration_of_calls_ returns a distribution.\n",
    "\n",
    "The summary keyword can take three values:\n",
    "\n",
    " - `default`: to return mean and sem;\n",
    " - `extended` for the second type of indicators, to return mean, sem, median, skewness and std of the distribution;\n",
    " - `None`: to return the full distribution."
   ]
  },
  {
   "cell_type": "code",
   "execution_count": 20,
   "metadata": {
    "collapsed": false
   },
   "outputs": [
    {
     "data": {
      "text/plain": [
       "{'allweek': {'allday': {'call': {'kurtosis': 1.8729008836491094,\n",
       "    'max': 7123.0,\n",
       "    'mean': 3557.2933333333335,\n",
       "    'median': 3552.0,\n",
       "    'min': 140.0,\n",
       "    'skewness': -0.01195616625912045,\n",
       "    'std': 2067.863501448348}}}}"
      ]
     },
     "execution_count": 20,
     "metadata": {},
     "output_type": "execute_result"
    }
   ],
   "source": [
    "bc.individual.call_duration(U, summary='extended', groupby=None)"
   ]
  },
  {
   "cell_type": "code",
   "execution_count": 21,
   "metadata": {
    "collapsed": false
   },
   "outputs": [
    {
     "name": "stdout",
     "output_type": "stream",
     "text": [
      "{'allweek': {'allday': {'call': [140, 154, 231, 267, 374, 403, 539, 594, 620, 706, 969, 1086, 1099, 1273, 1309, 1330, 1355, 1853, 1890, 1927, 1937, 1999, 2072, 2109, 2258, 2456, 2626, 2726, 2854, 2871, 3210, 3286, 3404, 3435, 3454, 3503, 3531, 3552, 3609, 3668, 3782, 4002, 4146, 4154, 4202, 4227, 4240, 4451, 4472, 4666, 4689, 4832, 4877, 4929, 5096, 5142, 5184, 5359, 5413, 5658, 5689, 5728, 5752, 5804, 6233, 6392, 6429, 6539, 6541, 6674, 6682, 6891, 7038, 7082, 7123]}}}\n"
     ]
    }
   ],
   "source": [
    "print bc.individual.call_duration(U, summary=None, groupby=None)"
   ]
  },
  {
   "cell_type": "markdown",
   "metadata": {},
   "source": [
    "## Exporting indicators"
   ]
  },
  {
   "cell_type": "code",
   "execution_count": 22,
   "metadata": {
    "collapsed": false,
    "scrolled": false
   },
   "outputs": [
    {
     "data": {
      "text/plain": [
       "{\n",
       "    \"name\": \"ego\", \n",
       "    \"reporting\": {\n",
       "        \"antennas_path\": \"data/antennas.csv\", \n",
       "        \"attributes_path\": None, \n",
       "        \"version\": \"0.3.0\", \n",
       "        \"groupby\": None, \n",
       "        \"split_week\": false, \n",
       "        \"split_day\": false, \n",
       "        \"start_time\": \"2014-03-02 07:13:30\", \n",
       "        \"end_time\": \"2014-04-14 12:04:37\", \n",
       "        \"night_start\": \"19:00:00\", \n",
       "        \"night_end\": \"07:00:00\", \n",
       "        \"weekend\": [\n",
       "            6, \n",
       "            7\n",
       "        ], \n",
       "        \"bins\": 1, \n",
       "        \"has_call\": true, \n",
       "        \"has_text\": true, \n",
       "        \"has_home\": true, \n",
       "        \"percent_records_missing_location\": 0.0, \n",
       "        \"antennas_missing_locations\": 0, \n",
       "        \"percent_outofnetwork_calls\": 0.96, \n",
       "        \"percent_outofnetwork_texts\": 0.9372384937238494, \n",
       "        \"percent_outofnetwork_contacts\": 0.8571428571428571, \n",
       "        \"percent_outofnetwork_call_durations\": 0.9395982713448802, \n",
       "        \"number_of_records\": 314, \n",
       "        \"ignored_records\": {\n",
       "            \"all\": 0, \n",
       "            \"interaction\": 0, \n",
       "            \"correspondent_id\": 0, \n",
       "            \"call_duration\": 0, \n",
       "            \"direction\": 0, \n",
       "            \"datetime\": 0\n",
       "        }\n",
       "    }, \n",
       "    \"active_days\": {\n",
       "        \"allweek\": {\n",
       "            \"allday\": {\n",
       "                \"callandtext\": 44\n",
       "            }\n",
       "        }\n",
       "    }, \n",
       "    \"number_of_contacts\": {\n",
       "        \"allweek\": {\n",
       "            \"allday\": {\n",
       "                \"text\": 7, \n",
       "                \"call\": 7\n",
       "            }\n",
       "        }\n",
       "    }, \n",
       "    \"call_duration\": {\n",
       "        \"allweek\": {\n",
       "            \"allday\": {\n",
       "                \"call\": {\n",
       "                    \"std\": 2067.863501448348, \n",
       "                    \"mean\": 3557.2933333333335\n",
       "                }\n",
       "            }\n",
       "        }\n",
       "    }, \n",
       "    \"percent_nocturnal\": {\n",
       "        \"allweek\": {\n",
       "            \"allday\": {\n",
       "                \"text\": 0.4393305439330544, \n",
       "                \"call\": 0.4266666666666667\n",
       "            }\n",
       "        }\n",
       "    }, \n",
       "    \"percent_initiated_conversations\": {\n",
       "        \"allweek\": {\n",
       "            \"allday\": {\n",
       "                \"callandtext\": 0.3080357142857143\n",
       "            }\n",
       "        }\n",
       "    }, \n",
       "    \"percent_initiated_interactions\": {\n",
       "        \"allweek\": {\n",
       "            \"allday\": {\n",
       "                \"call\": 0.41333333333333333\n",
       "            }\n",
       "        }\n",
       "    }, \n",
       "    \"response_delay_text\": {\n",
       "        \"allweek\": {\n",
       "            \"allday\": {\n",
       "                \"callandtext\": {\n",
       "                    \"std\": 747.5961476626268, \n",
       "                    \"mean\": 2310.0\n",
       "                }\n",
       "            }\n",
       "        }\n",
       "    }, \n",
       "    \"response_rate_text\": {\n",
       "        \"allweek\": {\n",
       "            \"allday\": {\n",
       "                \"callandtext\": 0.025806451612903226\n",
       "            }\n",
       "        }\n",
       "    }, \n",
       "    \"entropy_of_contacts\": {\n",
       "        \"allweek\": {\n",
       "            \"allday\": {\n",
       "                \"text\": 1.8462551114653172, \n",
       "                \"call\": 1.8626732085630935\n",
       "            }\n",
       "        }\n",
       "    }, \n",
       "    \"balance_of_contacts\": {\n",
       "        \"allweek\": {\n",
       "            \"allday\": {\n",
       "                \"text\": {\n",
       "                    \"std\": 0.01828697972597532, \n",
       "                    \"mean\": 0.04363419007770473\n",
       "                }, \n",
       "                \"call\": {\n",
       "                    \"std\": 0.018662778992633737, \n",
       "                    \"mean\": 0.05904761904761905\n",
       "                }\n",
       "            }\n",
       "        }\n",
       "    }, \n",
       "    \"interactions_per_contact\": {\n",
       "        \"allweek\": {\n",
       "            \"allday\": {\n",
       "                \"text\": {\n",
       "                    \"std\": 15.027865274012724, \n",
       "                    \"mean\": 34.142857142857146\n",
       "                }, \n",
       "                \"call\": {\n",
       "                    \"std\": 4.025429372458677, \n",
       "                    \"mean\": 10.714285714285714\n",
       "                }\n",
       "            }\n",
       "        }\n",
       "    }, \n",
       "    \"interevent_time\": {\n",
       "        \"allweek\": {\n",
       "            \"allday\": {\n",
       "                \"text\": {\n",
       "                    \"std\": 16816.128561460955, \n",
       "                    \"mean\": 15683.474789915967\n",
       "                }, \n",
       "                \"call\": {\n",
       "                    \"std\": 49455.92699110296, \n",
       "                    \"mean\": 49024.86486486487\n",
       "                }\n",
       "            }\n",
       "        }\n",
       "    }, \n",
       "    \"percent_pareto_interactions\": {\n",
       "        \"allweek\": {\n",
       "            \"allday\": {\n",
       "                \"text\": 0, \n",
       "                \"call\": 0\n",
       "            }\n",
       "        }\n",
       "    }, \n",
       "    \"percent_pareto_durations\": {\n",
       "        \"allweek\": {\n",
       "            \"allday\": {\n",
       "                \"call\": 0\n",
       "            }\n",
       "        }\n",
       "    }, \n",
       "    \"number_of_interactions\": {\n",
       "        \"allweek\": {\n",
       "            \"allday\": {\n",
       "                \"text\": 239, \n",
       "                \"call\": 75\n",
       "            }\n",
       "        }\n",
       "    }, \n",
       "    \"number_of_interaction_in\": {\n",
       "        \"allweek\": {\n",
       "            \"allday\": {\n",
       "                \"text\": 166, \n",
       "                \"call\": 44\n",
       "            }\n",
       "        }\n",
       "    }, \n",
       "    \"number_of_interaction_out\": {\n",
       "        \"allweek\": {\n",
       "            \"allday\": {\n",
       "                \"text\": 73, \n",
       "                \"call\": 31\n",
       "            }\n",
       "        }\n",
       "    }, \n",
       "    \"number_of_antennas\": {\n",
       "        \"allweek\": {\n",
       "            \"allday\": 10\n",
       "        }\n",
       "    }, \n",
       "    \"entropy_of_antennas\": {\n",
       "        \"allweek\": {\n",
       "            \"allday\": 1.50708296872476\n",
       "        }\n",
       "    }, \n",
       "    \"percent_at_home\": {\n",
       "        \"allweek\": {\n",
       "            \"allday\": 0.47058823529411764\n",
       "        }\n",
       "    }, \n",
       "    \"radius_of_gyration\": {\n",
       "        \"allweek\": {\n",
       "            \"allday\": 2.5809796846399546\n",
       "        }\n",
       "    }, \n",
       "    \"frequent_antennas\": {\n",
       "        \"allweek\": {\n",
       "            \"allday\": 3\n",
       "        }\n",
       "    }\n",
       "}"
      ]
     },
     "execution_count": 22,
     "metadata": {},
     "output_type": "execute_result"
    }
   ],
   "source": [
    "bc.utils.all(U, groupby=None)"
   ]
  },
  {
   "cell_type": "code",
   "execution_count": 23,
   "metadata": {
    "collapsed": false
   },
   "outputs": [
    {
     "name": "stdout",
     "output_type": "stream",
     "text": [
      "Successfully exported 1 object(s) to demo_export_user.csv\n",
      "Successfully exported 1 object(s) to demo_export_user.json\n"
     ]
    }
   ],
   "source": [
    "bc.io.to_csv([bc.utils.all(U, groupby=None)], 'demo_export_user.csv')\n",
    "bc.io.to_json([bc.utils.all(U, groupby=None)], 'demo_export_user.json')"
   ]
  },
  {
   "cell_type": "code",
   "execution_count": 24,
   "metadata": {
    "collapsed": false,
    "scrolled": false
   },
   "outputs": [
    {
     "name": "stdout",
     "output_type": "stream",
     "text": [
      "name,reporting__antennas_path,reporting__attributes_path,reporting__version,reporting__groupby,reporting__split_week,reporting__split_day,reporting__start_time,reporting__end_time,reporting__night_start,reporting__night_end,reporting__weekend,reporting__bins,reporting__has_call,reporting__has_text,reporting__has_home,reporting__percent_records_missing_location,reporting__antennas_missing_locations,reporting__percent_outofnetwork_calls,reporting__percent_outofnetwork_texts,reporting__percent_outofnetwork_contacts,reporting__percent_outofnetwork_call_durations,reporting__number_of_records,reporting__ignored_records__all,reporting__ignored_records__interaction,reporting__ignored_records__correspondent_id,reporting__ignored_records__call_duration,reporting__ignored_records__direction,reporting__ignored_records__datetime,active_days__allweek__allday__callandtext,number_of_contacts__allweek__allday__text,number_of_contacts__allweek__allday__call,call_duration__allweek__allday__call__std,call_duration__allweek__allday__call__mean,percent_nocturnal__allweek__allday__text,percent_nocturnal__allweek__allday__call,percent_initiated_conversations__allweek__allday__callandtext,percent_initiated_interactions__allweek__allday__call,response_delay_text__allweek__allday__callandtext__std,response_delay_text__allweek__allday__callandtext__mean,response_rate_text__allweek__allday__callandtext,entropy_of_contacts__allweek__allday__text,entropy_of_contacts__allweek__allday__call,balance_of_contacts__allweek__allday__text__std,balance_of_contacts__allweek__allday__text__mean,balance_of_contacts__allweek__allday__call__std,balance_of_contacts__allweek__allday__call__mean,interactions_per_contact__allweek__allday__text__std,interactions_per_contact__allweek__allday__text__mean,interactions_per_contact__allweek__allday__call__std,interactions_per_contact__allweek__allday__call__mean,interevent_time__allweek__allday__text__std,interevent_time__allweek__allday__text__mean,interevent_time__allweek__allday__call__std,interevent_time__allweek__allday__call__mean,percent_pareto_interactions__allweek__allday__text,percent_pareto_interactions__allweek__allday__call,percent_pareto_durations__allweek__allday__call,number_of_interactions__allweek__allday__text,number_of_interactions__allweek__allday__call,number_of_interaction_in__allweek__allday__text,number_of_interaction_in__allweek__allday__call,number_of_interaction_out__allweek__allday__text,number_of_interaction_out__allweek__allday__call,number_of_antennas__allweek__allday,entropy_of_antennas__allweek__allday,percent_at_home__allweek__allday,radius_of_gyration__allweek__allday,frequent_antennas__allweek__allday\r",
      "\r\n",
      "ego,data/antennas.csv,,0.3.0,,False,False,2014-03-02 07:13:30,2014-04-14 12:04:37,19:00:00,07:00:00,\"[6, 7]\",1,True,True,True,0.0,0,0.96,0.93724,0.85714,0.9396,314,0,0,0,0,0,0,44,7,7,2067.8635,3557.29333,0.43933,0.42667,0.30804,0.41333,747.59615,2310.0,0.02581,1.84626,1.86267,0.01829,0.04363,0.01866,0.05905,15.02787,34.14286,4.02543,10.71429,16816.12856,15683.47479,49455.92699,49024.86486,0,0,0,239,75,166,44,73,31,10,1.50708,0.47059,2.58098,3\r",
      "\r\n"
     ]
    }
   ],
   "source": [
    "!head -n 5 demo_export_user.csv"
   ]
  }
 ],
 "metadata": {
  "kernelspec": {
   "display_name": "Python 2",
   "language": "python",
   "name": "python2"
  },
  "language_info": {
   "codemirror_mode": {
    "name": "ipython",
    "version": 2
   },
   "file_extension": ".py",
   "mimetype": "text/x-python",
   "name": "python",
   "nbconvert_exporter": "python",
   "pygments_lexer": "ipython2",
   "version": "2.7.9"
  }
 },
 "nbformat": 4,
 "nbformat_minor": 0
}
