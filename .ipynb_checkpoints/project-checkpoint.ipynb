{
 "cells": [
  {
   "cell_type": "code",
   "execution_count": 2,
   "metadata": {
    "ExecuteTime": {
     "end_time": "2017-04-25T07:44:40.269586Z",
     "start_time": "2017-04-25T07:44:39.102285Z"
    },
    "run_control": {
     "frozen": false,
     "read_only": false
    }
   },
   "outputs": [],
   "source": [
    "%matplotlib inline\n",
    "#from sensible_raw.loaders import loader\n",
    "from collections import defaultdict\n",
    "import calendar\n",
    "import pandas as pd\n",
    "import numpy as np\n",
    "import pystan\n",
    "import matplotlib.pylab as plt\n",
    "import json\n",
    "import bandicoot_dev as bc_d\n",
    "from datetime import datetime as dt"
   ]
  },
  {
   "cell_type": "markdown",
   "metadata": {},
   "source": [
    "# Get data"
   ]
  },
  {
   "cell_type": "code",
   "execution_count": 3,
   "metadata": {
    "ExecuteTime": {
     "end_time": "2017-04-25T07:44:41.873622Z",
     "start_time": "2017-04-25T07:44:41.862552Z"
    },
    "collapsed": true,
    "run_control": {
     "frozen": false,
     "read_only": false
    }
   },
   "outputs": [],
   "source": [
    "def default_to_regular(d):\n",
    "    \"\"\"Recursively convert nested defaultdicts to nested dicts.\n",
    "\n",
    "    Source: http://stackoverflow.com/questions/26496831/how-to-convert-defaultdict-of-defaultdicts-of-defaultdicts-to-dict-of-dicts-o\n",
    "    \"\"\"\n",
    "    if isinstance(d, defaultdict):\n",
    "        d = {k: default_to_regular(v) for k, v in d.iteritems()}\n",
    "    return d\n",
    "\n",
    "def invert_partition(partition):\n",
    "    if type(partition.items()[0][1]) is list:\n",
    "        partition_inv = dict()\n",
    "        for c, nodes in partition.items():\n",
    "            for n in nodes:\n",
    "                partition_inv[n] = c\n",
    "    else:\n",
    "        partition_inv = defaultdict(list)\n",
    "        for n, c in partition.items():\n",
    "            partition_inv[c].append(n)\n",
    "    return default_to_regular(partition_inv)\n",
    "\n",
    "def load_data(kind, period):\n",
    "    columns, data = loader.load_data(kind, period)\n",
    "    return pd.DataFrame(dict((column, array) for column, array in zip(columns, data)))"
   ]
  },
  {
   "cell_type": "markdown",
   "metadata": {},
   "source": [
    "**Get vector groups**"
   ]
  },
  {
   "cell_type": "code",
   "execution_count": 7,
   "metadata": {
    "ExecuteTime": {
     "end_time": "2017-04-24T21:13:39.580491",
     "start_time": "2017-04-24T21:13:39.542696"
    },
    "collapsed": true,
    "run_control": {
     "frozen": false,
     "read_only": false
    }
   },
   "outputs": [],
   "source": [
    "dataframe_vectors = load_data(\"vectors\", \"vectors\")\n",
    "student_vector_group = dict((k, v) for k, v in zip(dataframe_vectors['user'], dataframe_vectors['vector']) if v > 0 and k < 10000)\n",
    "vector_group_students = invert_partition(student_vector_group)\n",
    "\n",
    "# Filter groups with less than 3 members\n",
    "vector_group_students = dict((k, v) for k, v in vector_group_students.items() if len(v) >= 3)"
   ]
  },
  {
   "cell_type": "markdown",
   "metadata": {},
   "source": [
    "**Get features**"
   ]
  },
  {
   "cell_type": "code",
   "execution_count": 62,
   "metadata": {
    "ExecuteTime": {
     "end_time": "2017-04-24T22:11:59.453474",
     "start_time": "2017-04-24T22:11:59.413538"
    },
    "run_control": {
     "frozen": false,
     "read_only": false
    }
   },
   "outputs": [],
   "source": [
    "tc = \"tc0\"\n",
    "\n",
    "def cl(f):\n",
    "    return '_'.join(('_'.join(f.split(\"__allweek__allday__\"))).split(\"__\"))\n",
    "\n",
    "class SufficiencyException(Exception):\n",
    "    pass\n",
    "\n",
    "def compute_features(userid, tc, groupby=\"week\", summary=\"special\"):\n",
    "    \n",
    "    def _threshold_test(user):\n",
    "        def __recs_per_day(records):\n",
    "            counter = len(records) * 1.0\n",
    "            span = (max(records, key=lambda r: r.datetime).datetime - \\\n",
    "                    min(records, key=lambda r: r.datetime).datetime).days\n",
    "            if span == 0:\n",
    "                return 0\n",
    "            return counter/span\n",
    "\n",
    "        thresholds = [\n",
    "            (user.text_records, 2),\n",
    "            (user.call_records, 1),\n",
    "            (user.physical_records, 1),\n",
    "            (user.screen_records, 20),\n",
    "            (user.stop_records, 1)\n",
    "        ]\n",
    "\n",
    "        for records, thr in thresholds:\n",
    "            if __recs_per_day(records) < thr:\n",
    "                return False\n",
    "        return True\n",
    "    \n",
    "    user = bc_d.read_csv(\n",
    "        \"%d\" % userid, \n",
    "        call_path=\"data_cache/records/call/%s/\" % tc,\n",
    "        text_path=\"data_cache/records/text/%s/\" % tc,\n",
    "        physical_path=\"data_cache/records/physical/%s/\" % tc,\n",
    "        screen_path=\"data_cache/records/screen/%s/\" % tc,\n",
    "        stop_path=\"data_cache/records/stop/%s/\" % tc, \n",
    "        network=False,\n",
    "        describe=False\n",
    "    )\n",
    "\n",
    "    if not _threshold_test(user):\n",
    "        raise SufficiencyException(\"User '%s' has too few records for analysis\" % str(userid))\n",
    "    \n",
    "    user.start_time['any'] = dt.strptime('01/01/14', \"%d/%m/%y\")\n",
    "    user.end_time['any'] = dt.strptime('01/01/15', \"%d/%m/%y\")\n",
    "    \n",
    "    indicators = bc_d.utils.all(\n",
    "        user,\n",
    "        groupby=groupby,\n",
    "        summary=summary,\n",
    "        dist=True,\n",
    "        network=False,\n",
    "        spatial=False\n",
    "    )\n",
    "\n",
    "    for ex in ['name', 'reporting']:\n",
    "        del indicators[ex]\n",
    "\n",
    "    return bc_d.utils.flatten(indicators), user"
   ]
  },
  {
   "cell_type": "code",
   "execution_count": null,
   "metadata": {
    "ExecuteTime": {
     "end_time": "2017-04-24T22:48:44.654960",
     "start_time": "2017-04-24T22:12:24.036796"
    },
    "collapsed": true,
    "run_control": {
     "frozen": false,
     "read_only": false
    }
   },
   "outputs": [],
   "source": [
    "student_data_tc0 = dict()\n",
    "u_prev = 0\n",
    "for u, _ in student_vector_group.items():\n",
    "    if u < u_prev: continue\n",
    "    try:\n",
    "        ds, _ = compute_features(u, tc=tc, groupby='week', summary='special')\n",
    "        student_data_tc0[u] = dict((cl(k), filter(lambda f: f is not None, v)) for k, v in ds.items()) \n",
    "        print u\n",
    "    except ValueError as e:\n",
    "        print u, \"failed\"\n",
    "    except SufficiencyException as e:\n",
    "        print e\n",
    "    except ZeroDivisionError as e:\n",
    "        print u, e\n",
    "        \n",
    "    u_prev = u"
   ]
  },
  {
   "cell_type": "markdown",
   "metadata": {
    "ExecuteTime": {
     "end_time": "2017-04-24T22:08:05.846021",
     "start_time": "2017-04-24T22:08:05.839229"
    }
   },
   "source": [
    "**Get vector group features**"
   ]
  },
  {
   "cell_type": "code",
   "execution_count": 134,
   "metadata": {
    "ExecuteTime": {
     "end_time": "2017-04-24T23:17:43.729722",
     "start_time": "2017-04-24T23:17:43.615359"
    },
    "run_control": {
     "frozen": false,
     "read_only": false
    }
   },
   "outputs": [],
   "source": [
    "vector_group_features = defaultdict(lambda: defaultdict(list))\n",
    "for u, data in student_data_tc0.items():\n",
    "    for f, d in data.items():\n",
    "        if d == []:\n",
    "            continue\n",
    "        if type(d[0]) is dict:\n",
    "            d = [_d['mean'] for _d in d if _d['mean'] is not None]\n",
    "        vector_group_features[student_vector_group[u]][f].append(np.mean(d))\n",
    "\n",
    "vector_group_features = dict(\n",
    "    (gid, data)\n",
    "    for gid, data in vector_group_features.items()\n",
    "    if np.ceil(np.mean(map(len, data.values()))) >= 3\n",
    ")"
   ]
  },
  {
   "cell_type": "markdown",
   "metadata": {},
   "source": [
    "**Get individual predictors**"
   ]
  },
  {
   "cell_type": "code",
   "execution_count": 200,
   "metadata": {
    "ExecuteTime": {
     "end_time": "2017-04-24T23:42:02.532869",
     "start_time": "2017-04-24T23:42:02.471644"
    },
    "run_control": {
     "frozen": false,
     "read_only": false
    }
   },
   "outputs": [],
   "source": [
    "def summarize(data):\n",
    "    data_out = {}\n",
    "    for f, d in data.items():\n",
    "        if d == []:\n",
    "            continue\n",
    "        if type(d[0]) is dict:\n",
    "            d = [_d['mean'] for _d in d if _d['mean'] is not None]\n",
    "        data_out[f] = np.mean(d)\n",
    "    return data_out\n",
    "\n",
    "student_data_summary = dict(\n",
    "    (u, summarize(data))\n",
    "    for u, data in student_data_tc0.items()\n",
    "    if student_vector_group[u] in vector_group_features\n",
    ")\n",
    "\n",
    "feature_labels = sorted(data.keys())"
   ]
  },
  {
   "cell_type": "markdown",
   "metadata": {},
   "source": [
    "**Get grades**"
   ]
  },
  {
   "cell_type": "code",
   "execution_count": 179,
   "metadata": {
    "ExecuteTime": {
     "end_time": "2017-04-24T23:34:13.030539",
     "start_time": "2017-04-24T23:34:12.975387"
    },
    "collapsed": true,
    "run_control": {
     "frozen": false,
     "read_only": false
    }
   },
   "outputs": [],
   "source": [
    "dataframe_grades = load_data(\"grades\", \"january_2014\")\n",
    "student_grades = defaultdict(list)\n",
    "for u, g in zip(dataframe_grades['user'], dataframe_grades['grade']):\n",
    "    if g in [\"EM\", \"BE\", \"IB\", \"V\", \"SN\", \"S\"]: continue\n",
    "    student_grades[u].append(int(g))"
   ]
  },
  {
   "cell_type": "markdown",
   "metadata": {},
   "source": [
    "**Get individual feaures and outcomes**"
   ]
  },
  {
   "cell_type": "code",
   "execution_count": 209,
   "metadata": {
    "ExecuteTime": {
     "end_time": "2017-04-24T23:44:43.639470",
     "start_time": "2017-04-24T23:44:43.623696"
    },
    "run_control": {
     "frozen": false,
     "read_only": false
    }
   },
   "outputs": [
    {
     "name": "stdout",
     "output_type": "stream",
     "text": [
      "21 has no grades\n",
      "31 has no grades\n",
      "59 has no grades\n",
      "66 has no grades\n",
      "129 has no grades\n",
      "143 has no grades\n",
      "202 has no grades\n",
      "346 has no grades\n"
     ]
    }
   ],
   "source": [
    "x, y, nn, jj = [], [], [], []\n",
    "for u, data in student_data_summary.items():\n",
    "    gpa = np.mean(student_grades[u])\n",
    "    if np.isnan(gpa):\n",
    "        print u, \"has no grades\"\n",
    "        \n",
    "    x.append([data[f] if f in data else 0 for f in feature_labels])\n",
    "    y.append(gpa)\n",
    "    nn.append(u)\n",
    "    jj.append(student_vector_group[u])"
   ]
  },
  {
   "cell_type": "code",
   "execution_count": 211,
   "metadata": {
    "ExecuteTime": {
     "end_time": "2017-04-24T23:44:48.589965",
     "start_time": "2017-04-24T23:44:48.583650"
    },
    "collapsed": true,
    "run_control": {
     "frozen": false,
     "read_only": false
    }
   },
   "outputs": [],
   "source": [
    "group_map = dict(zip(set(jj), range(len(set(jj)))))\n",
    "jj = [group_map[j] for j in jj]"
   ]
  },
  {
   "cell_type": "markdown",
   "metadata": {},
   "source": [
    "**Save (only able on remote server)**"
   ]
  },
  {
   "cell_type": "code",
   "execution_count": 213,
   "metadata": {
    "ExecuteTime": {
     "end_time": "2017-04-24T23:46:54.444416",
     "start_time": "2017-04-24T23:46:54.417559"
    },
    "collapsed": true,
    "run_control": {
     "frozen": false,
     "read_only": false
    }
   },
   "outputs": [],
   "source": [
    "with open(\"data/jj.json\", 'w') as fp:\n",
    "    json.dump(jj, fp)\n",
    "with open(\"data/y.json\", 'w') as fp:\n",
    "    json.dump(y, fp)\n",
    "with open(\"data/x.json\", 'w') as fp:\n",
    "    json.dump(x, fp)\n",
    "with open(\"data/feature_labels.json\", 'w') as fp:\n",
    "    json.dump(feature_labels, fp)"
   ]
  },
  {
   "cell_type": "markdown",
   "metadata": {},
   "source": [
    "**Load data (only relevant on local)**"
   ]
  },
  {
   "cell_type": "code",
   "execution_count": 32,
   "metadata": {
    "ExecuteTime": {
     "end_time": "2017-04-25T07:54:55.006027Z",
     "start_time": "2017-04-25T07:54:54.997256Z"
    },
    "collapsed": true,
    "run_control": {
     "frozen": false,
     "read_only": false
    }
   },
   "outputs": [],
   "source": [
    "with open(\"data/jj.json\", 'r') as fp:\n",
    "    jj = np.array(json.load(fp)) + 1\n",
    "with open(\"data/y.json\", 'r') as fp:\n",
    "    y = np.array(json.load(fp))\n",
    "with open(\"data/x.json\", 'r') as fp:\n",
    "    x = np.array(json.load(fp))\n",
    "with open(\"data/feature_labels.json\", 'r') as fp:\n",
    "    feature_labels = json.load(fp)"
   ]
  },
  {
   "cell_type": "code",
   "execution_count": 35,
   "metadata": {
    "ExecuteTime": {
     "end_time": "2017-04-25T07:55:04.308358Z",
     "start_time": "2017-04-25T07:55:04.304131Z"
    },
    "collapsed": true,
    "run_control": {
     "frozen": false,
     "read_only": false
    }
   },
   "outputs": [],
   "source": [
    "jj_f, y_f = [], []\n",
    "for _jj, _y in zip(jj, y):\n",
    "    if np.isnan(_y): continue\n",
    "    jj_f.append(_jj)\n",
    "    y_f.append(_y)"
   ]
  },
  {
   "cell_type": "markdown",
   "metadata": {},
   "source": [
    "# Analysis"
   ]
  },
  {
   "cell_type": "markdown",
   "metadata": {},
   "source": [
    "## Simple hierarchical model"
   ]
  },
  {
   "cell_type": "code",
   "execution_count": 38,
   "metadata": {
    "ExecuteTime": {
     "end_time": "2017-04-25T07:55:50.943869Z",
     "start_time": "2017-04-25T07:55:19.255954Z"
    },
    "run_control": {
     "frozen": false,
     "read_only": false
    }
   },
   "outputs": [],
   "source": [
    "# USING: ==== Hierarchical prior for means and variances in comparison of K groups ====\n",
    "code = \"\"\"\n",
    "data {\n",
    "    int<lower=0> N; // number of data points \n",
    "    int<lower=0> K; // number of groups \n",
    "    int<lower=1,upper=K> x[N]; // group indicator \n",
    "    vector[N] y; // \n",
    "}\n",
    "parameters {\n",
    "    real mu0;             // hyper-prior mean \n",
    "    real<lower=0> sigma0; // hyper-prior std \n",
    "    vector[K] mu;         // group means \n",
    "    real<lower=0> sigma;  // common std \n",
    "}\n",
    "model {\n",
    "    mu0 ~ normal(mean(y), sd(y));      // weakly informative prior. NOTE: Here I use the empirical mean and SD of the data as hyper-prior parameters.\n",
    "    sigma0 ~ normal(7, 4);          // weakly informative prior. NOTE: Here I have computed the mean and SD of the in-class SDs and used them as hyper-prior parameters.\n",
    "    mu ~ normal(mu0, sigma0);          // population prior with unknown parameters.\n",
    "    for (n in 1:N)\n",
    "      y[n] ~ normal(mu[x[n]], sigma);\n",
    "}\n",
    "generated quantities {\n",
    "    real y6_pred;\n",
    "    y6_pred = normal_rng(mu[x[6]], sigma);\n",
    "}\n",
    "\"\"\"\n",
    "\n",
    "data = dict(\n",
    "    N = len(y_f),\n",
    "    K = len(set(jj_f)),\n",
    "    x = list(jj_f),\n",
    "    y = y_f\n",
    ")\n",
    "# Compile and fit the model\n",
    "fit = pystan.stan(model_code=code, data=data)\n",
    "\n",
    "# Extract samples\n",
    "samples = fit.extract(permuted=True)"
   ]
  },
  {
   "cell_type": "code",
   "execution_count": 40,
   "metadata": {
    "ExecuteTime": {
     "end_time": "2017-04-25T07:56:01.858657Z",
     "start_time": "2017-04-25T07:56:01.211958Z"
    },
    "run_control": {
     "frozen": false,
     "read_only": false
    }
   },
   "outputs": [
    {
     "name": "stdout",
     "output_type": "stream",
     "text": [
      "Matrix of probabilities that one mu is larger than other:\n",
      "[[ 0.       0.461    0.356  ]\n",
      " [ 0.539    0.       0.39075]\n",
      " [ 0.644    0.60925  0.     ]]\n"
     ]
    },
    {
     "data": {
      "image/png": "[encoded data removed]",
      "text/plain": [
       "<matplotlib.figure.Figure at 0x1159740d0>"
      ]
     },
     "metadata": {},
     "output_type": "display_data"
    }
   ],
   "source": [
    "mu = samples['mu']\n",
    "# Matrix of probabilities that one mu is larger than other\n",
    "ps = np.zeros((3,3))\n",
    "for k1 in range(3):\n",
    "    for k2 in range(k1+1,3):\n",
    "        ps[k1,k2] = np.mean(mu[:,k1]>mu[:,k2])\n",
    "        ps[k2,k1] = 1 - ps[k1,k2]\n",
    "print(\"Matrix of probabilities that one mu is larger than other:\")\n",
    "print(ps)\n",
    "# Plot\n",
    "plt.figure(None, (20, 4))\n",
    "plt.violinplot(mu,showmeans=True,showextrema=False)\n",
    "plt.xlim([0, 31])\n",
    "plt.savefig(\"figures/violinplot.pdf\")"
   ]
  },
  {
   "cell_type": "markdown",
   "metadata": {},
   "source": [
    "## Hierarchical model regression"
   ]
  },
  {
   "cell_type": "code",
   "execution_count": null,
   "metadata": {
    "collapsed": true
   },
   "outputs": [],
   "source": [
    "# USING: ==== Hierarchical prior for means and variances in comparison of K groups ====\n",
    "code = \"\"\"\n",
    "data {\n",
    "    int<lower=0> N; // num individuals\n",
    "    int<lower=1> K; // num ind predictors\n",
    "    int<lower=1> J; // num groups\n",
    "    int<lower=1> L; // num group predictors\n",
    "    int<lower=1,upper=J> jj[N]; // group for individual\n",
    "    matrix[N, K] x; // individual predictors\n",
    "    row_vector[L] u[J]; // group predictors\n",
    "    vector[N] y; // outcomes\n",
    "}\n",
    "parameters {\n",
    "    corr_matrix[K] Omega; // prior correlation\n",
    "    vector<lower=0>[K] tau; // prior scale\n",
    "    matrix[L, K] gamma; // group coeffs\n",
    "    vector[K] beta[J]; // indiv coeffs by group\n",
    "    real<lower=0> sigma; // prediction error scale\n",
    "}\n",
    "model {\n",
    "    tau ~ cauchy(0, 2.5);\n",
    "    Omega ~ lkj_corr(2);\n",
    "    to_vector(gamma) ~ normal(0, 5);\n",
    "    {\n",
    "        row_vector[K] u_gamma[J];\n",
    "        for (j in 1:J)\n",
    "            u_gamma[j] = u[j] * gamma;\n",
    "        beta ~ multi_normal(u_gamma, quad_form_diag(Omega, tau));\n",
    "    }\n",
    "    for (n in 1:N)\n",
    "        y[n] ~ normal(x[n] * beta[jj[n]], sigma);\n",
    "}\n",
    "\"\"\"\n",
    "\n",
    "data = dict(\n",
    "    N = len(y_f),\n",
    "    K = len(set(jj_f)),\n",
    "    x = list(jj_f),\n",
    "    y = y_f\n",
    ")\n",
    "# Compile and fit the model\n",
    "fit = pystan.stan(model_code=code, data=data)\n",
    "\n",
    "# Extract samples\n",
    "samples = fit.extract(permuted=True)"
   ]
  }
 ],
 "metadata": {
  "kernelspec": {
   "display_name": "Python 2",
   "language": "python",
   "name": "python2"
  },
  "language_info": {
   "codemirror_mode": {
    "name": "ipython",
    "version": 2
   },
   "file_extension": ".py",
   "mimetype": "text/x-python",
   "name": "python",
   "nbconvert_exporter": "python",
   "pygments_lexer": "ipython2",
   "version": "2.7.12"
  },
  "nav_menu": {},
  "toc": {
   "navigate_menu": true,
   "number_sections": true,
   "sideBar": true,
   "threshold": 6,
   "toc_cell": false,
   "toc_section_display": "block",
   "toc_window_display": false
  }
 },
 "nbformat": 4,
 "nbformat_minor": 1
}
