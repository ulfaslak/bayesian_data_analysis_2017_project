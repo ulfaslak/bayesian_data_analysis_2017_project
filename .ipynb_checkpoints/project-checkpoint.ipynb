{
 "cells": [
  {
   "cell_type": "code",
   "execution_count": 60,
   "metadata": {
    "ExecuteTime": {
     "end_time": "2017-03-27T03:43:00.753313",
     "start_time": "2017-03-27T03:43:00.749879"
    },
    "collapsed": false
   },
   "outputs": [],
   "source": [
    "%matplotlib inline\n",
    "from sensible_raw.loaders import loader\n",
    "from collections import defaultdict\n",
    "import calendar\n",
    "import pandas as pd\n",
    "import numpy as np\n",
    "#import pystan\n",
    "import matplotlib.pylab as plt\n",
    "import json"
   ]
  },
  {
   "cell_type": "markdown",
   "metadata": {},
   "source": [
    "# Get data"
   ]
  },
  {
   "cell_type": "code",
   "execution_count": 14,
   "metadata": {
    "ExecuteTime": {
     "end_time": "2017-03-27T03:25:39.423972",
     "start_time": "2017-03-27T03:25:39.411567"
    },
    "collapsed": true
   },
   "outputs": [],
   "source": [
    "def default_to_regular(d):\n",
    "    \"\"\"Recursively convert nested defaultdicts to nested dicts.\n",
    "\n",
    "    Source: http://stackoverflow.com/questions/26496831/how-to-convert-defaultdict-of-defaultdicts-of-defaultdicts-to-dict-of-dicts-o\n",
    "    \"\"\"\n",
    "    if isinstance(d, defaultdict):\n",
    "        d = {k: default_to_regular(v) for k, v in d.iteritems()}\n",
    "    return d\n",
    "\n",
    "def invert_partition(partition):\n",
    "    if type(partition.items()[0][1]) is list:\n",
    "        partition_inv = dict()\n",
    "        for c, nodes in partition.items():\n",
    "            for n in nodes:\n",
    "                partition_inv[n] = c\n",
    "    else:\n",
    "        partition_inv = defaultdict(list)\n",
    "        for n, c in partition.items():\n",
    "            partition_inv[c].append(n)\n",
    "    return default_to_regular(partition_inv)\n",
    "\n",
    "def load_data(kind, period):\n",
    "    columns, data = loader.load_data(kind, period)\n",
    "    return pd.DataFrame(dict((column, array) for column, array in zip(columns, data)))"
   ]
  },
  {
   "cell_type": "markdown",
   "metadata": {},
   "source": [
    "**Get vector groups**"
   ]
  },
  {
   "cell_type": "code",
   "execution_count": 42,
   "metadata": {
    "ExecuteTime": {
     "end_time": "2017-03-27T03:33:38.226540",
     "start_time": "2017-03-27T03:33:38.206233"
    },
    "collapsed": false
   },
   "outputs": [],
   "source": [
    "dataframe_vectors = load_data(\"vectors\", \"vectors\")\n",
    "student_vector_group = dict((k, v) for k, v in zip(dataframe_vectors['user'], dataframe_vectors['vector']) if v > 0 and k < 10000)\n",
    "vector_group_students = invert_partition(student_vector_group)\n",
    "\n",
    "# Filter groups with less than 3 members\n",
    "vector_group_students = dict((k, v) for k, v in vector_group_students.items() if len(v) >= 3)"
   ]
  },
  {
   "cell_type": "markdown",
   "metadata": {},
   "source": [
    "**Get grades**"
   ]
  },
  {
   "cell_type": "code",
   "execution_count": 43,
   "metadata": {
    "ExecuteTime": {
     "end_time": "2017-03-27T03:33:39.142308",
     "start_time": "2017-03-27T03:33:39.080369"
    },
    "collapsed": false
   },
   "outputs": [],
   "source": [
    "dataframe_grades = load_data(\"grades\", \"january_2014\")\n",
    "student_grades = defaultdict(list)\n",
    "for u, g in zip(dataframe_grades['user'], dataframe_grades['grade']):\n",
    "    if g in [\"EM\", \"BE\", \"IB\", \"V\", \"SN\", \"S\"]: continue\n",
    "    student_grades[u].append(int(g))"
   ]
  },
  {
   "cell_type": "markdown",
   "metadata": {},
   "source": [
    "**Get vector group grades**"
   ]
  },
  {
   "cell_type": "code",
   "execution_count": 46,
   "metadata": {
    "ExecuteTime": {
     "end_time": "2017-03-27T03:33:44.511104",
     "start_time": "2017-03-27T03:33:44.503614"
    },
    "collapsed": false
   },
   "outputs": [],
   "source": [
    "vector_group_grades = defaultdict(list)\n",
    "for g, s_arr in vector_group_students.items():\n",
    "    for s in s_arr:\n",
    "        vector_group_grades[g].append(np.mean(student_grades[s]))\n",
    "        #vector_group_grades[g].extend(student_grades[s])"
   ]
  },
  {
   "cell_type": "markdown",
   "metadata": {},
   "source": [
    "**Map group ids to new group ids starting from 0**"
   ]
  },
  {
   "cell_type": "code",
   "execution_count": 54,
   "metadata": {
    "ExecuteTime": {
     "end_time": "2017-03-27T03:40:35.427138",
     "start_time": "2017-03-27T03:40:35.422075"
    },
    "collapsed": true
   },
   "outputs": [],
   "source": [
    "idmap = dict(zip(vector_group_grades.keys(), range(len(vector_group_grades))))\n",
    "vector_group_grades = dict((idmap[k], v) for k, v in vector_group_grades.items())"
   ]
  },
  {
   "cell_type": "markdown",
   "metadata": {},
   "source": [
    "**Convert to Stan-friendly data**"
   ]
  },
  {
   "cell_type": "code",
   "execution_count": 55,
   "metadata": {
    "ExecuteTime": {
     "end_time": "2017-03-27T03:42:05.914547",
     "start_time": "2017-03-27T03:42:05.906658"
    },
    "collapsed": true
   },
   "outputs": [],
   "source": [
    "x, y = [], []\n",
    "for vector_group, grades in vector_group_grades.items():\n",
    "    x.extend([vector_group] * len(grades))\n",
    "    y.extend(grades)"
   ]
  },
  {
   "cell_type": "markdown",
   "metadata": {},
   "source": [
    "**Save (only able on remote server)**"
   ]
  },
  {
   "cell_type": "code",
   "execution_count": 65,
   "metadata": {
    "ExecuteTime": {
     "end_time": "2017-03-27T03:43:55.020914",
     "start_time": "2017-03-27T03:43:55.015210"
    },
    "collapsed": false
   },
   "outputs": [],
   "source": [
    "with open(\"data/x.json\", 'w') as fp:\n",
    "    json.dump(x, fp)\n",
    "with open(\"data/y.json\", 'w') as fp:\n",
    "    json.dump(y, fp)"
   ]
  },
  {
   "cell_type": "markdown",
   "metadata": {},
   "source": [
    "# Analysis"
   ]
  },
  {
   "cell_type": "code",
   "execution_count": null,
   "metadata": {
    "collapsed": true
   },
   "outputs": [],
   "source": []
  }
 ],
 "metadata": {
  "kernelspec": {
   "display_name": "Python 2",
   "language": "python",
   "name": "python2"
  },
  "language_info": {
   "codemirror_mode": {
    "name": "ipython",
    "version": 2
   },
   "file_extension": ".py",
   "mimetype": "text/x-python",
   "name": "python",
   "nbconvert_exporter": "python",
   "pygments_lexer": "ipython2",
   "version": "2.7.11"
  },
  "nav_menu": {},
  "toc": {
   "navigate_menu": true,
   "number_sections": true,
   "sideBar": true,
   "threshold": 6,
   "toc_cell": false,
   "toc_section_display": "block",
   "toc_window_display": false
  }
 },
 "nbformat": 4,
 "nbformat_minor": 1
}
